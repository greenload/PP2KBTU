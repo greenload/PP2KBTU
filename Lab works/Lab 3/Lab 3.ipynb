{
 "cells": [
  {
   "cell_type": "markdown",
   "id": "092a1c20",
   "metadata": {},
   "source": [
    "# Lab 3"
   ]
  },
  {
   "cell_type": "markdown",
   "id": "d0cd88ee",
   "metadata": {},
   "source": [
    "## Tasks from W3 school"
   ]
  },
  {
   "cell_type": "markdown",
   "id": "348744d9",
   "metadata": {},
   "source": [
    "### Functions"
   ]
  },
  {
   "cell_type": "code",
   "execution_count": 3,
   "id": "b3731145",
   "metadata": {},
   "outputs": [
    {
     "name": "stdout",
     "output_type": "stream",
     "text": [
      "Hello World\n"
     ]
    }
   ],
   "source": [
    "#We are defining a function and then calling it by its name\n",
    "def my_function():\n",
    "    print(\"Hello from a function\")\n",
    "    \n",
    "my_function()"
   ]
  },
  {
   "cell_type": "code",
   "execution_count": 7,
   "id": "c0f8a278",
   "metadata": {},
   "outputs": [
    {
     "name": "stdout",
     "output_type": "stream",
     "text": [
      "Hello\n"
     ]
    }
   ],
   "source": [
    "#We are defining a function with two parameters and calling it with two strings\n",
    "def my_function(fname, lname):\n",
    "    print(fname)\n",
    "    \n",
    "my_function(\"Hello\", \"World\")"
   ]
  },
  {
   "cell_type": "code",
   "execution_count": 9,
   "id": "24ef09c5",
   "metadata": {},
   "outputs": [
    {
     "name": "stdout",
     "output_type": "stream",
     "text": [
      "8\n"
     ]
    }
   ],
   "source": [
    "#We are defining a function with one parameter and returning it's value increased by 5\n",
    "def my_function(x):\n",
    "    return x + 5\n",
    "\n",
    "print(my_function(3))"
   ]
  },
  {
   "cell_type": "code",
   "execution_count": 12,
   "id": "f8f5beb4",
   "metadata": {},
   "outputs": [
    {
     "name": "stdout",
     "output_type": "stream",
     "text": [
      "The youngest child is 1\n"
     ]
    }
   ],
   "source": [
    "#We are defining function with multiple parameters and printing only one from them\n",
    "def my_function(*kids):\n",
    "    print(\"The youngest child is \" + kids[2])\n",
    "\n",
    "my_function(\"3\", \"5\", \"1\", \"4\")"
   ]
  },
  {
   "cell_type": "code",
   "execution_count": null,
   "id": "2bcdbba6",
   "metadata": {},
   "outputs": [],
   "source": [
    "def my_function(**kid):\n",
    "    print(\"His last name is \" + ked[\"lname\"])\n",
    "    \n"
   ]
  },
  {
   "cell_type": "markdown",
   "id": "b492daf3",
   "metadata": {},
   "source": [
    "### Lambda"
   ]
  },
  {
   "cell_type": "code",
   "execution_count": 17,
   "id": "47590fd4",
   "metadata": {},
   "outputs": [],
   "source": [
    "#We are defining a lambda function which takes one parameter and simply returning it back\n",
    "x = lambda a : a"
   ]
  },
  {
   "cell_type": "markdown",
   "id": "d99abb55",
   "metadata": {},
   "source": [
    "_There were no other tasks, but I realized that for me this topic is quite hard to understand, thus I made several other examples_"
   ]
  },
  {
   "cell_type": "code",
   "execution_count": 16,
   "id": "7951603a",
   "metadata": {},
   "outputs": [
    {
     "name": "stdout",
     "output_type": "stream",
     "text": [
      "<function <lambda> at 0x103bc1bd0>\n"
     ]
    }
   ],
   "source": [
    "#If I try to print it, it returns just the memory allocation address\n",
    "x = lambda a : a\n",
    "print(x)"
   ]
  },
  {
   "cell_type": "code",
   "execution_count": 25,
   "id": "04e920e6",
   "metadata": {},
   "outputs": [
    {
     "name": "stdout",
     "output_type": "stream",
     "text": [
      "33\n",
      "44\n"
     ]
    }
   ],
   "source": [
    "def my_function(n):\n",
    "  return lambda a : a * n\n",
    "\n",
    "mytripler = my_function(3)\n",
    "myquadripler = my_function(4)\n",
    "\n",
    "print(mytripler(11))\n",
    "print(myquadripler(11))"
   ]
  },
  {
   "cell_type": "markdown",
   "id": "d67ad7e9",
   "metadata": {},
   "source": [
    "### Classes"
   ]
  },
  {
   "cell_type": "code",
   "execution_count": 28,
   "id": "dc140c39",
   "metadata": {},
   "outputs": [
    {
     "name": "stdout",
     "output_type": "stream",
     "text": [
      "5\n"
     ]
    }
   ],
   "source": [
    "#We are creating simple class, making an object, and using this object to print a value\n",
    "class MyClass:\n",
    "    x = 5\n",
    "\n",
    "p1 = MyClass()\n",
    "\n",
    "print(p1.x)"
   ]
  },
  {
   "cell_type": "code",
   "execution_count": 35,
   "id": "6c2a1480",
   "metadata": {},
   "outputs": [
    {
     "name": "stdout",
     "output_type": "stream",
     "text": [
      "John 36\n"
     ]
    }
   ],
   "source": [
    "#We are creating class \"Person\" with an \"__init__\" function which makes some actions at the initialization of the class\n",
    "class Person:\n",
    "    def __init__ (self, name, age):\n",
    "        self.name = name\n",
    "        self.age = age\n",
    "\n",
    "#So here we have to provide arguments for this object to being created\n",
    "p1 = Person(\"John\", 36)\n",
    "\n",
    "print(p1.name, p1.age)"
   ]
  },
  {
   "cell_type": "markdown",
   "id": "e49ccf68",
   "metadata": {},
   "source": [
    "### Inheritance"
   ]
  },
  {
   "cell_type": "code",
   "execution_count": 30,
   "id": "6abfbf4f",
   "metadata": {},
   "outputs": [
    {
     "name": "stdout",
     "output_type": "stream",
     "text": [
      "-7.625\n"
     ]
    }
   ],
   "source": []
  },
  {
   "cell_type": "code",
   "execution_count": null,
   "id": "9e3f408c",
   "metadata": {},
   "outputs": [],
   "source": []
  }
 ],
 "metadata": {
  "kernelspec": {
   "display_name": "Python 3 (ipykernel)",
   "language": "python",
   "name": "python3"
  },
  "language_info": {
   "codemirror_mode": {
    "name": "ipython",
    "version": 3
   },
   "file_extension": ".py",
   "mimetype": "text/x-python",
   "name": "python",
   "nbconvert_exporter": "python",
   "pygments_lexer": "ipython3",
   "version": "3.10.4"
  }
 },
 "nbformat": 4,
 "nbformat_minor": 5
}
